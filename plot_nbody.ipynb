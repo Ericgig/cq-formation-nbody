{
 "cells": [
  {
   "cell_type": "code",
   "execution_count": 85,
   "metadata": {
    "collapsed": false
   },
   "outputs": [],
   "source": [
    "import numpy as np\n",
    "from mpl_toolkits.mplot3d import Axes3D\n",
    "import matplotlib.pyplot as plt\n",
    "import glob\n",
    "import sys\n",
    "%matplotlib inline"
   ]
  },
  {
   "cell_type": "code",
   "execution_count": 87,
   "metadata": {
    "collapsed": false
   },
   "outputs": [
    {
     "name": "stdout",
     "output_type": "stream",
     "text": [
      "Writing plot_nbody.py\n"
     ]
    }
   ],
   "source": [
    "def readmolfile(filename):\n",
    "    time = int(filename.split(\".\")[0][6:])\n",
    "    with open(filename) as molfile:\n",
    "        lines = molfile.readlines()\n",
    "        n_particle = int(lines[3].split()[0])\n",
    "        particles = np.zeros((3,n_particle))\n",
    "        i=0\n",
    "        for i,line in enumerate(lines[4:4+n_particle]):\n",
    "            particles[:,i] = [float(n) for n in line.split()[0:3] ]\n",
    "    \n",
    "    return time,n_particle,particles\n",
    "\n",
    "def plot_particles_2D(particles,title):\n",
    "    N = len(particles[0])\n",
    "    color = np.arange(0,100,100/N)\n",
    "    \n",
    "    fig, axes = plt.subplots(1, 3)\n",
    "    fig.subplots_adjust(left=0.07, right=1.50, wspace=0.25)\n",
    "    fig.suptitle(title, fontsize=16)\n",
    "    \n",
    "    ax = axes[0]\n",
    "    ax.scatter(particles[0],particles[1],c=color, cmap=plt.get_cmap(\"brg\"))\n",
    "    ax.set_xlabel('X')\n",
    "    ax.set_ylabel('Y')\n",
    "    \n",
    "    ax = axes[1]\n",
    "    ax.scatter(particles[0],particles[2],c=color, cmap=plt.get_cmap(\"brg\"))\n",
    "    ax.set_xlabel('X')\n",
    "    ax.set_ylabel('Z')\n",
    "    \n",
    "    ax = axes[2]\n",
    "    ax.scatter(particles[1],particles[2],c=color, cmap=plt.get_cmap(\"brg\"))\n",
    "    ax.set_xlabel('Y')\n",
    "    ax.set_ylabel('Z')\n",
    "    \n",
    "    plt.show()\n",
    "    \n",
    "def plot_particles_3D(particles,title):\n",
    "    fig = plt.figure()\n",
    "    plt.title(title)\n",
    "    ax = fig.add_subplot(111, projection='3d')\n",
    "\n",
    "    N = len(particles[0])\n",
    "    color = np.arange(0,100,100/N)\n",
    "\n",
    "    ax.scatter(particles[0], particles[1], particles[2], c=color, cmap=plt.get_cmap(\"brg\"))\n",
    "\n",
    "    ax.set_xlabel('X')\n",
    "    ax.set_ylabel('Y')\n",
    "    ax.set_zlabel('Z')\n",
    "\n",
    "    plt.show()\n",
    "\n",
    "    \n",
    "def main(plttype):\n",
    "    filelist = glob.glob(\"*.mol\")\n",
    "    data = []\n",
    "    for file in filelist:\n",
    "        data += [readmolfile(file)]\n",
    "    data = sorted(data, key=lambda timeslice: timeslice[0])\n",
    "\n",
    "    if sys.argv[1:]==\"3D\":\n",
    "        for timeslice in data:\n",
    "            plot_particles_3D(timeslice[2],\"T=\"+str(timeslice[0]))\n",
    "    else :\n",
    "        for timeslice in data:\n",
    "            plot_particles_2D(timeslice[2],\"T=\"+str(timeslice[0]))\n",
    "\n",
    "if __name__ == \"__main__\":\n",
    "    \n",
    "    if sys.argv[1:]==\"3D\":\n",
    "        plttype = \"3D\"\n",
    "    else :\n",
    "        plttype = \"2D\"\n",
    "    main(plttype)\n",
    "    "
   ]
  },
  {
   "cell_type": "code",
   "execution_count": 46,
   "metadata": {
    "collapsed": false
   },
   "outputs": [],
   "source": [
    "filelist = glob.glob(\"*.mol\")\n",
    "data = []\n",
    "for file in filelist:\n",
    "    data += [readmolfile(file)]\n",
    "data = sorted(data, key=lambda timeslice: timeslice[0])\n",
    "\n",
    "for timeslice in data:\n",
    "    plot_particles_2D(timeslice[2],\"T=\"+str(timeslice[0]))\n"
   ]
  },
  {
   "cell_type": "code",
   "execution_count": null,
   "metadata": {
    "collapsed": true
   },
   "outputs": [],
   "source": [
    "for timeslice in data:\n",
    "    plot_particles_3D(timeslice[2],\"T=\"+str(timeslice[0]))"
   ]
  },
  {
   "cell_type": "code",
   "execution_count": null,
   "metadata": {
    "collapsed": false,
    "scrolled": true
   },
   "outputs": [],
   "source": []
  },
  {
   "cell_type": "code",
   "execution_count": null,
   "metadata": {
    "collapsed": true
   },
   "outputs": [],
   "source": []
  },
  {
   "cell_type": "code",
   "execution_count": 106,
   "metadata": {
    "collapsed": false
   },
   "outputs": [
    {
     "name": "stdout",
     "output_type": "stream",
     "text": [
      "Overwriting animate_nbody.py\n"
     ]
    }
   ],
   "source": [
    "%%writefile animate_nbody.py\n",
    "import numpy as np\n",
    "from mpl_toolkits.mplot3d import Axes3D\n",
    "import matplotlib.pyplot as plt\n",
    "import matplotlib.animation as animation\n",
    "import glob\n",
    "import sys\n",
    "\n",
    "\n",
    "def readmolfile(filename):\n",
    "    time = int(filename.split(\".\")[0][6:])\n",
    "    with open(filename) as molfile:\n",
    "        lines = molfile.readlines()\n",
    "        n_particle = int(lines[3].split()[0])\n",
    "        particles = np.zeros((3,n_particle))\n",
    "        i=0\n",
    "        for i,line in enumerate(lines[4:4+n_particle]):\n",
    "            particles[:,i] = [float(n) for n in line.split()[0:3] ]\n",
    "    \n",
    "    return time,n_particle,particles\n",
    "\n",
    "def update_2D(num, data, line):\n",
    "    line.set_data(data[..., :num])\n",
    "    return line,  \n",
    "\n",
    "def animate_particles_2D(data):\n",
    "    N = len(particles[0])\n",
    "    color = np.arange(0,100,100/N)\n",
    "    \n",
    "    fig, axes = plt.subplots(1, 3)\n",
    "    fig.subplots_adjust(left=0.07, right=1.50, wspace=0.25)\n",
    "    fig.suptitle(title, fontsize=16)\n",
    "    \n",
    "    ax = axes[0]\n",
    "    ax.scatter(particles[0],particles[1],c=color, cmap=plt.get_cmap(\"brg\"))\n",
    "    ax.set_xlabel('X')\n",
    "    ax.set_ylabel('Y')\n",
    "    \n",
    "    ax = axes[1]\n",
    "    ax.scatter(particles[0],particles[2],c=color, cmap=plt.get_cmap(\"brg\"))\n",
    "    ax.set_xlabel('X')\n",
    "    ax.set_ylabel('Z')\n",
    "    \n",
    "    ax = axes[2]\n",
    "    ax.scatter(particles[1],particles[2],c=color, cmap=plt.get_cmap(\"brg\"))\n",
    "    ax.set_xlabel('Y')\n",
    "    ax.set_ylabel('Z')\n",
    "    \n",
    "    plt.show()\n",
    "\n",
    " \n",
    "    \n",
    "def animate_particles_3D(data):\n",
    "    def update_3D(num, data):\n",
    "        particles = data[0][2]\n",
    "        plot = ax.scatter(particles[0], particles[1], particles[2], c=color, cmap=plt.get_cmap(\"brg\"))\n",
    "        plot.title(\"t=\"+str)\n",
    "        return plot\n",
    "    \n",
    "    fig = plt.figure()\n",
    "    ax = fig.add_subplot(111, projection='3d')\n",
    "    \n",
    "    particles = data[0][2]\n",
    "\n",
    "    N = len(particles[0])\n",
    "    color = np.arange(0,100,100/N)\n",
    "    \n",
    "    def update_3D(num, data, plot):\n",
    "        particles = data[num][2]\n",
    "        plot = ax.scatter(particles[0], particles[1], particles[2], c=color, cmap=plt.get_cmap(\"brg\"))\n",
    "        return plot\n",
    "    \n",
    "    plot = ax.scatter(particles[0], particles[1], particles[2], c=color, cmap=plt.get_cmap(\"brg\"))\n",
    "\n",
    "    ax.set_xlabel('X')\n",
    "    ax.set_ylabel('Y')\n",
    "    ax.set_zlabel('Z')\n",
    "\n",
    "    ani = animation.FuncAnimation(fig, update_3D, len(data), fargs=(data, plot), interval=50)\n",
    "    plt.show()\n",
    "\n",
    "    \n",
    "def main(plttype):\n",
    "    filelist = glob.glob(\"*.mol\")\n",
    "    data = []\n",
    "    for file in filelist:\n",
    "        data += [readmolfile(file)]\n",
    "    data = sorted(data, key=lambda timeslice: timeslice[0])\n",
    "    animate_particles_3D(data)\n",
    "    #if plttype==\"3D\":\n",
    "    #    animate_particles_3D(data)\n",
    "    #else :\n",
    "    #    animate_particles_2D(data)\n",
    "\n",
    "if __name__ == \"__main__\":\n",
    "    if sys.argv[1]==\"3D\":\n",
    "        plttype = \"3D\"\n",
    "    else :\n",
    "        plttype = \"2D\"\n",
    "    main(plttype)\n",
    "    "
   ]
  },
  {
   "cell_type": "code",
   "execution_count": null,
   "metadata": {
    "collapsed": true
   },
   "outputs": [],
   "source": []
  },
  {
   "cell_type": "code",
   "execution_count": null,
   "metadata": {
    "collapsed": false
   },
   "outputs": [],
   "source": []
  },
  {
   "cell_type": "code",
   "execution_count": 75,
   "metadata": {
    "collapsed": false
   },
   "outputs": [
    {
     "data": {
      "image/png": "[encoded data removed]",
      "text/plain": [
       "<matplotlib.figure.Figure at 0x7fb678104400>"
      ]
     },
     "metadata": {},
     "output_type": "display_data"
    },
    {
     "data": {
      "image/png": "[encoded data removed]",
      "text/plain": [
       "<matplotlib.figure.Figure at 0x7fb673ff3978>"
      ]
     },
     "metadata": {},
     "output_type": "display_data"
    }
   ],
   "source": [
    "import numpy as np\n",
    "import matplotlib.pyplot as plt\n",
    "import matplotlib.animation as animation\n",
    "\n",
    "\n",
    "def update_line(num, data, line):\n",
    "    line.set_data(data[..., :num])\n",
    "    return line,\n",
    "\n",
    "fig1 = plt.figure()\n",
    "\n",
    "data = np.random.rand(2, 25)\n",
    "l, = plt.plot([], [], 'r-')\n",
    "plt.xlim(0, 1)\n",
    "plt.ylim(0, 1)\n",
    "plt.xlabel('x')\n",
    "plt.title('test')\n",
    "line_ani = animation.FuncAnimation(fig1, update_line, 25, fargs=(data, l),\n",
    "                                   interval=50, blit=True)\n",
    "\n",
    "# To save the animation, use the command: line_ani.save('lines.mp4')\n",
    "\n",
    "fig2 = plt.figure()\n",
    "\n",
    "x = np.arange(-9, 10)\n",
    "y = np.arange(-9, 10).reshape(-1, 1)\n",
    "base = np.hypot(x, y)\n",
    "ims = []\n",
    "for add in np.arange(15):\n",
    "    ims.append((plt.pcolor(x, y, base + add, norm=plt.Normalize(0, 30)),))\n",
    "\n",
    "im_ani = animation.ArtistAnimation(fig2, ims, interval=50, repeat_delay=3000,\n",
    "                                   blit=True)\n",
    "# To save this second animation with some metadata, use the following command:\n",
    "# im_ani.save('im.mp4', metadata={'artist':'Guido'})\n",
    "\n",
    "plt.show()"
   ]
  },
  {
   "cell_type": "code",
   "execution_count": null,
   "metadata": {
    "collapsed": true
   },
   "outputs": [],
   "source": []
  }
 ],
 "metadata": {
  "kernelspec": {
   "display_name": "Python 3",
   "language": "python",
   "name": "python3"
  },
  "language_info": {
   "codemirror_mode": {
    "name": "ipython",
    "version": 3
   },
   "file_extension": ".py",
   "mimetype": "text/x-python",
   "name": "python",
   "nbconvert_exporter": "python",
   "pygments_lexer": "ipython3",
   "version": "3.5.3"
  }
 },
 "nbformat": 4,
 "nbformat_minor": 2
}
